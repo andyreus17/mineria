{
  "cells": [
    {
      "cell_type": "markdown",
      "metadata": {
        "id": "-CnSaU7yuHuo"
      },
      "source": [
        "# Laboratorio 2: Exploración y Visualización de Datos\n",
        "Fecha: Marzo 2024\n",
        "\n",
        "Integrantes: Vicente Leyton C. (seccion 1) - Andrés Salazar C. (seccion 1)\n"
      ]
    },
    {
      "cell_type": "markdown",
      "metadata": {
        "id": "N3o-gTDiuw5O"
      },
      "source": [
        "## Declaración de compromiso ético\n",
        "\n",
        "Nosotros/as **Vicente Leyton C. - Andrés Salazar C.**, declaramos que realizamos de manera grupal los pasos de la presente actividad. También declaramos no incurrir en copia, ni compartir nuestras respuestas con otras personas ni con otros grupos. Por lo que, ratificamos que las respuestas son de nuestra propia confección y reflejan nuestro propio conocimiento."
      ]
    },
    {
      "cell_type": "markdown",
      "metadata": {
        "id": "DAB7Kb-fuwH4"
      },
      "source": [
        "## Instrucciones\n",
        "\n",
        "1.  Trabajen en equipos de dos personas. Salvo excepciones, no se corregirá entregas con menos de dos integrantes.\n",
        "\n",
        "2.  Modifique este archivo `.ipynb` agregando sus respuestas donde corresponda. Puede ocupar Jupyter notebook en su computador o usar Google Colab como alternativa online.\n",
        "\n",
        "3.  Para cada pregunta **incluya el código fuente que utilizó para llegar a su respuesta. Respuestas sin código no recibirán puntaje.**.\n",
        "\n",
        "4.  El formato de entrega para esta actividad es un archivo **html**. **Genere un archivo HTML usando Jupyter** y súbalo a U-Cursos. Basta con que un/a integrante haga la entrega. Si ambos/as hacen una entrega en U-Cursos, se revisará cualquiera de éstas."
      ]
    },
    {
      "cell_type": "markdown",
      "metadata": {
        "id": "aOoASC9ywZ3D"
      },
      "source": [
        "# Práctica\n",
        "\n",
        "## Accidentes de tránsito\n",
        "\n",
        "Para esta sección utilizaremos un dataset real de número de accidentes de tránsito por localidad, el cual puede ser encontrado en el siguiente link: http://datos.gob.cl/dataset/9348. Para cargar el dataset ejecute el siguiente código:"
      ]
    },
    {
      "cell_type": "code",
      "execution_count": 4,
      "metadata": {
        "id": "G9hcgQxIvRa0"
      },
      "outputs": [],
      "source": [
        "import pandas as pd\n",
        "import matplotlib.pyplot as plt"
      ]
    },
    {
      "cell_type": "code",
      "execution_count": 5,
      "metadata": {
        "id": "dj1JzlHhvRa1",
        "outputId": "e53ab866-bd6c-4427-cd5a-33a9560da0f8"
      },
      "outputs": [
        {
          "data": {
            "text/html": [
              "<div>\n",
              "<style scoped>\n",
              "    .dataframe tbody tr th:only-of-type {\n",
              "        vertical-align: middle;\n",
              "    }\n",
              "\n",
              "    .dataframe tbody tr th {\n",
              "        vertical-align: top;\n",
              "    }\n",
              "\n",
              "    .dataframe thead th {\n",
              "        text-align: right;\n",
              "    }\n",
              "</style>\n",
              "<table border=\"1\" class=\"dataframe\">\n",
              "  <thead>\n",
              "    <tr style=\"text-align: right;\">\n",
              "      <th></th>\n",
              "      <th>Muestra</th>\n",
              "      <th>Descripcion</th>\n",
              "      <th>Anio</th>\n",
              "      <th>TipoAccidente</th>\n",
              "      <th>Cantidad</th>\n",
              "    </tr>\n",
              "  </thead>\n",
              "  <tbody>\n",
              "    <tr>\n",
              "      <th>1</th>\n",
              "      <td>Nacional</td>\n",
              "      <td>Nacional</td>\n",
              "      <td>2010</td>\n",
              "      <td>Atropello</td>\n",
              "      <td>8247</td>\n",
              "    </tr>\n",
              "    <tr>\n",
              "      <th>2</th>\n",
              "      <td>Nacional</td>\n",
              "      <td>Nacional</td>\n",
              "      <td>2011</td>\n",
              "      <td>Atropello</td>\n",
              "      <td>8339</td>\n",
              "    </tr>\n",
              "    <tr>\n",
              "      <th>3</th>\n",
              "      <td>Regional</td>\n",
              "      <td>XV Región Arica y Parinacota</td>\n",
              "      <td>2010</td>\n",
              "      <td>Atropello</td>\n",
              "      <td>115</td>\n",
              "    </tr>\n",
              "    <tr>\n",
              "      <th>4</th>\n",
              "      <td>Regional</td>\n",
              "      <td>XV Región Arica y Parinacota</td>\n",
              "      <td>2011</td>\n",
              "      <td>Atropello</td>\n",
              "      <td>159</td>\n",
              "    </tr>\n",
              "    <tr>\n",
              "      <th>5</th>\n",
              "      <td>Comunal</td>\n",
              "      <td>ARICA</td>\n",
              "      <td>2010</td>\n",
              "      <td>Atropello</td>\n",
              "      <td>115</td>\n",
              "    </tr>\n",
              "  </tbody>\n",
              "</table>\n",
              "</div>"
            ],
            "text/plain": [
              "    Muestra                   Descripcion  Anio TipoAccidente  Cantidad\n",
              "1  Nacional                      Nacional  2010     Atropello      8247\n",
              "2  Nacional                      Nacional  2011     Atropello      8339\n",
              "3  Regional  XV Región Arica y Parinacota  2010     Atropello       115\n",
              "4  Regional  XV Región Arica y Parinacota  2011     Atropello       159\n",
              "5   Comunal                         ARICA  2010     Atropello       115"
            ]
          },
          "execution_count": 5,
          "metadata": {},
          "output_type": "execute_result"
        }
      ],
      "source": [
        "tipos = pd.read_csv(\"https://users.dcc.uchile.cl/~hsarmien/mineria/datasets/accidentes_2010_2011.txt\", sep=\" \")\n",
        "tipos.head()"
      ]
    },
    {
      "cell_type": "markdown",
      "metadata": {
        "id": "Rl6U5eR7vRa1"
      },
      "source": [
        "Explore el set de datos para responder las siguientes preguntas:"
      ]
    },
    {
      "cell_type": "markdown",
      "metadata": {
        "id": "wRhwgcqivRa1"
      },
      "source": [
        "1. ¿Cuáles son las dimensiones del dataset (filas, columnas)? (Recuerde adjuntar código)."
      ]
    },
    {
      "cell_type": "code",
      "execution_count": 6,
      "metadata": {
        "id": "NcpxQuAUvRa2"
      },
      "outputs": [
        {
          "data": {
            "text/plain": [
              "(4296, 5)"
            ]
          },
          "execution_count": 6,
          "metadata": {},
          "output_type": "execute_result"
        }
      ],
      "source": [
        "dim = tipos.shape\n",
        "dim"
      ]
    },
    {
      "cell_type": "markdown",
      "metadata": {},
      "source": [
        "Las dimensiones para el dataframe de anime son (4296, 5). Ocupamos de código fuente el Tutorial_2.ipynb"
      ]
    },
    {
      "cell_type": "code",
      "execution_count": null,
      "metadata": {},
      "outputs": [],
      "source": [
        "'''\n",
        "# The dimensions of the dataframe as a (rows, cols) tuple\n",
        "mtcars_df.shape\n",
        "'''"
      ]
    },
    {
      "cell_type": "markdown",
      "metadata": {
        "id": "j2QRGMhjvRa2"
      },
      "source": [
        "2. ¿Qué describe cada línea del dataset? (ejemplifique tomando el dato de la fila 235, extienda la descripción)"
      ]
    },
    {
      "cell_type": "code",
      "execution_count": 8,
      "metadata": {
        "id": "ok_Xj8iPvRa2"
      },
      "outputs": [
        {
          "data": {
            "text/html": [
              "<div>\n",
              "<style scoped>\n",
              "    .dataframe tbody tr th:only-of-type {\n",
              "        vertical-align: middle;\n",
              "    }\n",
              "\n",
              "    .dataframe tbody tr th {\n",
              "        vertical-align: top;\n",
              "    }\n",
              "\n",
              "    .dataframe thead th {\n",
              "        text-align: right;\n",
              "    }\n",
              "</style>\n",
              "<table border=\"1\" class=\"dataframe\">\n",
              "  <thead>\n",
              "    <tr style=\"text-align: right;\">\n",
              "      <th></th>\n",
              "      <th>Muestra</th>\n",
              "      <th>Descripcion</th>\n",
              "      <th>Anio</th>\n",
              "      <th>TipoAccidente</th>\n",
              "      <th>Cantidad</th>\n",
              "    </tr>\n",
              "  </thead>\n",
              "  <tbody>\n",
              "    <tr>\n",
              "      <th>235</th>\n",
              "      <td>Comunal</td>\n",
              "      <td>PALMILLA</td>\n",
              "      <td>2010</td>\n",
              "      <td>Atropello</td>\n",
              "      <td>4</td>\n",
              "    </tr>\n",
              "  </tbody>\n",
              "</table>\n",
              "</div>"
            ],
            "text/plain": [
              "     Muestra Descripcion  Anio TipoAccidente  Cantidad\n",
              "235  Comunal    PALMILLA  2010     Atropello         4"
            ]
          },
          "execution_count": 8,
          "metadata": {},
          "output_type": "execute_result"
        }
      ],
      "source": [
        "fila = tipos[234:235]\n",
        "fila"
      ]
    },
    {
      "cell_type": "markdown",
      "metadata": {},
      "source": [
        "Cada línea del dataset describe la cantidad de algún tipo de accidente dado el año y en este caso, comuna. Pudiendo ser también la región que se ocupará más adelante. Ocupamos de código fuente el Tutorial_2.ipynb"
      ]
    },
    {
      "cell_type": "code",
      "execution_count": null,
      "metadata": {},
      "outputs": [],
      "source": [
        "'''\n",
        "# Converts the frame to a two-dimensional table\n",
        "# we use [0:5] for printing only the first 5 examples\n",
        "mtcars_df.values[0:5]\n",
        "'''"
      ]
    },
    {
      "cell_type": "markdown",
      "metadata": {
        "id": "PT05GYXHvRa2"
      },
      "source": [
        "3. ¿Cuántos años diferentes abarca la información del dataset? Entregue un array con los años.\n"
      ]
    },
    {
      "cell_type": "code",
      "execution_count": 22,
      "metadata": {
        "id": "eytl6jGgvRa2"
      },
      "outputs": [
        {
          "data": {
            "text/plain": [
              "array([2010, 2011], dtype=int64)"
            ]
          },
          "execution_count": 22,
          "metadata": {},
          "output_type": "execute_result"
        }
      ],
      "source": [
        "anios = tipos['Anio'].drop_duplicates().to_numpy()\n",
        "anios"
      ]
    },
    {
      "cell_type": "markdown",
      "metadata": {},
      "source": [
        "Abarca la información de dos años (2010 y 2011). Ocupamos de código fuente el Tutorial_2.ipynb y https://pandas.pydata.org/pandas-docs/version/2.1.2/reference/api/pandas.DataFrame.to_numpy.html"
      ]
    },
    {
      "cell_type": "code",
      "execution_count": null,
      "metadata": {},
      "outputs": [],
      "source": [
        "'''\n",
        "# Unique values from a column\n",
        "mtcars_df.Model.drop_duplicates()\n",
        "'''"
      ]
    },
    {
      "cell_type": "markdown",
      "metadata": {
        "id": "JZd73AXPvRa2"
      },
      "source": [
        "4. Filtre los datos para incluir sólo los accidentes ocurridos el año 2011 a nivel Regional. Luego, genere un gráfico de barras que muestre la cantidad de accidentes en cada Región. Comente sus principales observaciones y si considera que es razonable usar el conteo de frecuencias para determinar las regiones que tuvieron más accidentes."
      ]
    },
    {
      "cell_type": "markdown",
      "metadata": {
        "id": "uUBo8p8mvRa3"
      },
      "source": [
        "R: Es razonable usar el conteo de frecuencias, pero no es lo mejor, ya que se pierde información de las demás regiones al tener tanta diferencia con la región metropolitana"
      ]
    },
    {
      "cell_type": "code",
      "execution_count": 12,
      "metadata": {
        "id": "oJD0bg9avRa3"
      },
      "outputs": [
        {
          "data": {
            "image/png": "[encoded data removed]",
            "text/plain": [
              "<Figure size 640x480 with 1 Axes>"
            ]
          },
          "metadata": {},
          "output_type": "display_data"
        }
      ],
      "source": [
        "accidentes_regional = tipos[(tipos['Anio'] == 2011) & (tipos['Muestra'] == 'Regional')]\n",
        "accidentes_regional\n",
        "\n",
        "plt.bar(accidentes_regional['Descripcion'], accidentes_regional['Cantidad'])\n",
        "\n",
        "# Establecer etiquetas de los ejes\n",
        "plt.xlabel('Region')\n",
        "plt.ylabel('Cantidad')\n",
        "\n",
        "# Establecer título\n",
        "plt.title('Cantidad de accidentes ocurridos en el año 2011 a nivel regional')\n",
        "\n",
        "# Rotar etiquetas del eje x para mejor visualización\n",
        "plt.xticks(rotation=45, ha='right')\n",
        "\n",
        "# Mostrar el gráfico\n",
        "plt.show()\n",
        "\n"
      ]
    },
    {
      "cell_type": "markdown",
      "metadata": {},
      "source": [
        "Ocupamos de código fuente el Tutorial_2.ipynb"
      ]
    },
    {
      "cell_type": "code",
      "execution_count": null,
      "metadata": {},
      "outputs": [],
      "source": [
        "'''\n",
        "# Filtrar los datos donde Muestra es igual a \"Regional\", Anio es igual a 2011 y Estado es igual a \"Muertos\"\n",
        "afect2011 = afectados[(afectados['Muestra'] == 'Regional') &\n",
        "                      (afectados['Anio'] == 2011) &\n",
        "                      (afectados['Estado'] == 'Muertos')]\n",
        "\n",
        "# Crear un gráfico de barras\n",
        "plt.bar(afect2011['Descripcion'], afect2011['Cantidad'])\n",
        "\n",
        "# Establecer etiquetas de los ejes\n",
        "plt.xlabel('Descripción')\n",
        "plt.ylabel('Cantidad')\n",
        "\n",
        "# Establecer título\n",
        "plt.title('Cantidad de Muertos en Accidentes Regionales en 2011')\n",
        "\n",
        "# Rotar etiquetas del eje x para mejor visualización\n",
        "plt.xticks(rotation=45, ha='right')\n",
        "\n",
        "# Mostrar el gráfico\n",
        "plt.show()\n",
        "'''"
      ]
    },
    {
      "cell_type": "markdown",
      "metadata": {
        "id": "Ra9DCuIkvRa3"
      },
      "source": [
        "5. Filtre los datos para incluir sólo los accidentes ocurridos el año 2010 a nivel regional. Genere un boxplot donde se indique la cantidad de accidentes categorizado por tipo de accidente. ¿Cuáles son sus principales observaciones?"
      ]
    },
    {
      "cell_type": "code",
      "execution_count": 13,
      "metadata": {},
      "outputs": [
        {
          "data": {
            "text/plain": [
              "['Atropello', 'Caida', 'Colision', 'Choque', 'Volcadura', 'Otros']"
            ]
          },
          "execution_count": 13,
          "metadata": {},
          "output_type": "execute_result"
        }
      ],
      "source": [
        "accidentes = tipos['TipoAccidente'].drop_duplicates().to_numpy()\n",
        "list(accidentes)"
      ]
    },
    {
      "cell_type": "code",
      "execution_count": 14,
      "metadata": {},
      "outputs": [
        {
          "data": {
            "application/vnd.plotly.v1+json": {
              "config": {
                "plotlyServerURL": "https://plot.ly"
              },
              "data": [
                {
                  "alignmentgroup": "True",
                  "hovertemplate": "TipoAccidente=%{x}<br>Cantidad=%{y}<extra></extra>",
                  "legendgroup": "",
                  "marker": {
                    "color": "#636efa"
                  },
                  "name": "",
                  "notched": false,
                  "offsetgroup": "",
                  "orientation": "v",
                  "showlegend": false,
                  "type": "box",
                  "x": [
                    "Atropello",
                    "Atropello",
                    "Atropello",
                    "Atropello",
                    "Atropello",
                    "Atropello",
                    "Atropello",
                    "Atropello",
                    "Atropello",
                    "Atropello",
                    "Atropello",
                    "Atropello",
                    "Atropello",
                    "Atropello",
                    "Atropello",
                    "Caida",
                    "Caida",
                    "Caida",
                    "Caida",
                    "Caida",
                    "Caida",
                    "Caida",
                    "Caida",
                    "Caida",
                    "Caida",
                    "Caida",
                    "Caida",
                    "Caida",
                    "Caida",
                    "Caida",
                    "Colision",
                    "Colision",
                    "Colision",
                    "Colision",
                    "Colision",
                    "Colision",
                    "Colision",
                    "Colision",
                    "Colision",
                    "Colision",
                    "Colision",
                    "Colision",
                    "Colision",
                    "Colision",
                    "Colision",
                    "Choque",
                    "Choque",
                    "Choque",
                    "Choque",
                    "Choque",
                    "Choque",
                    "Choque",
                    "Choque",
                    "Choque",
                    "Choque",
                    "Choque",
                    "Choque",
                    "Choque",
                    "Choque",
                    "Choque",
                    "Volcadura",
                    "Volcadura",
                    "Volcadura",
                    "Volcadura",
                    "Volcadura",
                    "Volcadura",
                    "Volcadura",
                    "Volcadura",
                    "Volcadura",
                    "Volcadura",
                    "Volcadura",
                    "Volcadura",
                    "Volcadura",
                    "Volcadura",
                    "Volcadura",
                    "Otros",
                    "Otros",
                    "Otros",
                    "Otros",
                    "Otros",
                    "Otros",
                    "Otros",
                    "Otros",
                    "Otros",
                    "Otros",
                    "Otros",
                    "Otros",
                    "Otros",
                    "Otros",
                    "Otros"
                  ],
                  "x0": " ",
                  "xaxis": "x",
                  "y": [
                    115,
                    168,
                    290,
                    91,
                    241,
                    931,
                    404,
                    501,
                    1169,
                    487,
                    251,
                    544,
                    96,
                    125,
                    2834,
                    6,
                    6,
                    32,
                    6,
                    22,
                    153,
                    49,
                    60,
                    164,
                    64,
                    18,
                    36,
                    3,
                    3,
                    856,
                    265,
                    397,
                    949,
                    274,
                    891,
                    3122,
                    1654,
                    2278,
                    2753,
                    1748,
                    423,
                    1082,
                    249,
                    598,
                    12444,
                    151,
                    134,
                    454,
                    141,
                    560,
                    2301,
                    1026,
                    1308,
                    1435,
                    849,
                    176,
                    638,
                    188,
                    400,
                    4797,
                    55,
                    158,
                    199,
                    124,
                    213,
                    402,
                    239,
                    344,
                    528,
                    335,
                    113,
                    250,
                    78,
                    116,
                    475,
                    6,
                    7,
                    14,
                    13,
                    20,
                    114,
                    36,
                    50,
                    79,
                    31,
                    12,
                    35,
                    4,
                    17,
                    269
                  ],
                  "y0": " ",
                  "yaxis": "y"
                }
              ],
              "layout": {
                "boxmode": "group",
                "legend": {
                  "tracegroupgap": 0
                },
                "margin": {
                  "t": 60
                },
                "template": {
                  "data": {
                    "bar": [
                      {
                        "error_x": {
                          "color": "#2a3f5f"
                        },
                        "error_y": {
                          "color": "#2a3f5f"
                        },
                        "marker": {
                          "line": {
                            "color": "#E5ECF6",
                            "width": 0.5
                          },
                          "pattern": {
                            "fillmode": "overlay",
                            "size": 10,
                            "solidity": 0.2
                          }
                        },
                        "type": "bar"
                      }
                    ],
                    "barpolar": [
                      {
                        "marker": {
                          "line": {
                            "color": "#E5ECF6",
                            "width": 0.5
                          },
                          "pattern": {
                            "fillmode": "overlay",
                            "size": 10,
                            "solidity": 0.2
                          }
                        },
                        "type": "barpolar"
                      }
                    ],
                    "carpet": [
                      {
                        "aaxis": {
                          "endlinecolor": "#2a3f5f",
                          "gridcolor": "white",
                          "linecolor": "white",
                          "minorgridcolor": "white",
                          "startlinecolor": "#2a3f5f"
                        },
                        "baxis": {
                          "endlinecolor": "#2a3f5f",
                          "gridcolor": "white",
                          "linecolor": "white",
                          "minorgridcolor": "white",
                          "startlinecolor": "#2a3f5f"
                        },
                        "type": "carpet"
                      }
                    ],
                    "choropleth": [
                      {
                        "colorbar": {
                          "outlinewidth": 0,
                          "ticks": ""
                        },
                        "type": "choropleth"
                      }
                    ],
                    "contour": [
                      {
                        "colorbar": {
                          "outlinewidth": 0,
                          "ticks": ""
                        },
                        "colorscale": [
                          [
                            0,
                            "#0d0887"
                          ],
                          [
                            0.1111111111111111,
                            "#46039f"
                          ],
                          [
                            0.2222222222222222,
                            "#7201a8"
                          ],
                          [
                            0.3333333333333333,
                            "#9c179e"
                          ],
                          [
                            0.4444444444444444,
                            "#bd3786"
                          ],
                          [
                            0.5555555555555556,
                            "#d8576b"
                          ],
                          [
                            0.6666666666666666,
                            "#ed7953"
                          ],
                          [
                            0.7777777777777778,
                            "#fb9f3a"
                          ],
                          [
                            0.8888888888888888,
                            "#fdca26"
                          ],
                          [
                            1,
                            "#f0f921"
                          ]
                        ],
                        "type": "contour"
                      }
                    ],
                    "contourcarpet": [
                      {
                        "colorbar": {
                          "outlinewidth": 0,
                          "ticks": ""
                        },
                        "type": "contourcarpet"
                      }
                    ],
                    "heatmap": [
                      {
                        "colorbar": {
                          "outlinewidth": 0,
                          "ticks": ""
                        },
                        "colorscale": [
                          [
                            0,
                            "#0d0887"
                          ],
                          [
                            0.1111111111111111,
                            "#46039f"
                          ],
                          [
                            0.2222222222222222,
                            "#7201a8"
                          ],
                          [
                            0.3333333333333333,
                            "#9c179e"
                          ],
                          [
                            0.4444444444444444,
                            "#bd3786"
                          ],
                          [
                            0.5555555555555556,
                            "#d8576b"
                          ],
                          [
                            0.6666666666666666,
                            "#ed7953"
                          ],
                          [
                            0.7777777777777778,
                            "#fb9f3a"
                          ],
                          [
                            0.8888888888888888,
                            "#fdca26"
                          ],
                          [
                            1,
                            "#f0f921"
                          ]
                        ],
                        "type": "heatmap"
                      }
                    ],
                    "heatmapgl": [
                      {
                        "colorbar": {
                          "outlinewidth": 0,
                          "ticks": ""
                        },
                        "colorscale": [
                          [
                            0,
                            "#0d0887"
                          ],
                          [
                            0.1111111111111111,
                            "#46039f"
                          ],
                          [
                            0.2222222222222222,
                            "#7201a8"
                          ],
                          [
                            0.3333333333333333,
                            "#9c179e"
                          ],
                          [
                            0.4444444444444444,
                            "#bd3786"
                          ],
                          [
                            0.5555555555555556,
                            "#d8576b"
                          ],
                          [
                            0.6666666666666666,
                            "#ed7953"
                          ],
                          [
                            0.7777777777777778,
                            "#fb9f3a"
                          ],
                          [
                            0.8888888888888888,
                            "#fdca26"
                          ],
                          [
                            1,
                            "#f0f921"
                          ]
                        ],
                        "type": "heatmapgl"
                      }
                    ],
                    "histogram": [
                      {
                        "marker": {
                          "pattern": {
                            "fillmode": "overlay",
                            "size": 10,
                            "solidity": 0.2
                          }
                        },
                        "type": "histogram"
                      }
                    ],
                    "histogram2d": [
                      {
                        "colorbar": {
                          "outlinewidth": 0,
                          "ticks": ""
                        },
                        "colorscale": [
                          [
                            0,
                            "#0d0887"
                          ],
                          [
                            0.1111111111111111,
                            "#46039f"
                          ],
                          [
                            0.2222222222222222,
                            "#7201a8"
                          ],
                          [
                            0.3333333333333333,
                            "#9c179e"
                          ],
                          [
                            0.4444444444444444,
                            "#bd3786"
                          ],
                          [
                            0.5555555555555556,
                            "#d8576b"
                          ],
                          [
                            0.6666666666666666,
                            "#ed7953"
                          ],
                          [
                            0.7777777777777778,
                            "#fb9f3a"
                          ],
                          [
                            0.8888888888888888,
                            "#fdca26"
                          ],
                          [
                            1,
                            "#f0f921"
                          ]
                        ],
                        "type": "histogram2d"
                      }
                    ],
                    "histogram2dcontour": [
                      {
                        "colorbar": {
                          "outlinewidth": 0,
                          "ticks": ""
                        },
                        "colorscale": [
                          [
                            0,
                            "#0d0887"
                          ],
                          [
                            0.1111111111111111,
                            "#46039f"
                          ],
                          [
                            0.2222222222222222,
                            "#7201a8"
                          ],
                          [
                            0.3333333333333333,
                            "#9c179e"
                          ],
                          [
                            0.4444444444444444,
                            "#bd3786"
                          ],
                          [
                            0.5555555555555556,
                            "#d8576b"
                          ],
                          [
                            0.6666666666666666,
                            "#ed7953"
                          ],
                          [
                            0.7777777777777778,
                            "#fb9f3a"
                          ],
                          [
                            0.8888888888888888,
                            "#fdca26"
                          ],
                          [
                            1,
                            "#f0f921"
                          ]
                        ],
                        "type": "histogram2dcontour"
                      }
                    ],
                    "mesh3d": [
                      {
                        "colorbar": {
                          "outlinewidth": 0,
                          "ticks": ""
                        },
                        "type": "mesh3d"
                      }
                    ],
                    "parcoords": [
                      {
                        "line": {
                          "colorbar": {
                            "outlinewidth": 0,
                            "ticks": ""
                          }
                        },
                        "type": "parcoords"
                      }
                    ],
                    "pie": [
                      {
                        "automargin": true,
                        "type": "pie"
                      }
                    ],
                    "scatter": [
                      {
                        "fillpattern": {
                          "fillmode": "overlay",
                          "size": 10,
                          "solidity": 0.2
                        },
                        "type": "scatter"
                      }
                    ],
                    "scatter3d": [
                      {
                        "line": {
                          "colorbar": {
                            "outlinewidth": 0,
                            "ticks": ""
                          }
                        },
                        "marker": {
                          "colorbar": {
                            "outlinewidth": 0,
                            "ticks": ""
                          }
                        },
                        "type": "scatter3d"
                      }
                    ],
                    "scattercarpet": [
                      {
                        "marker": {
                          "colorbar": {
                            "outlinewidth": 0,
                            "ticks": ""
                          }
                        },
                        "type": "scattercarpet"
                      }
                    ],
                    "scattergeo": [
                      {
                        "marker": {
                          "colorbar": {
                            "outlinewidth": 0,
                            "ticks": ""
                          }
                        },
                        "type": "scattergeo"
                      }
                    ],
                    "scattergl": [
                      {
                        "marker": {
                          "colorbar": {
                            "outlinewidth": 0,
                            "ticks": ""
                          }
                        },
                        "type": "scattergl"
                      }
                    ],
                    "scattermapbox": [
                      {
                        "marker": {
                          "colorbar": {
                            "outlinewidth": 0,
                            "ticks": ""
                          }
                        },
                        "type": "scattermapbox"
                      }
                    ],
                    "scatterpolar": [
                      {
                        "marker": {
                          "colorbar": {
                            "outlinewidth": 0,
                            "ticks": ""
                          }
                        },
                        "type": "scatterpolar"
                      }
                    ],
                    "scatterpolargl": [
                      {
                        "marker": {
                          "colorbar": {
                            "outlinewidth": 0,
                            "ticks": ""
                          }
                        },
                        "type": "scatterpolargl"
                      }
                    ],
                    "scatterternary": [
                      {
                        "marker": {
                          "colorbar": {
                            "outlinewidth": 0,
                            "ticks": ""
                          }
                        },
                        "type": "scatterternary"
                      }
                    ],
                    "surface": [
                      {
                        "colorbar": {
                          "outlinewidth": 0,
                          "ticks": ""
                        },
                        "colorscale": [
                          [
                            0,
                            "#0d0887"
                          ],
                          [
                            0.1111111111111111,
                            "#46039f"
                          ],
                          [
                            0.2222222222222222,
                            "#7201a8"
                          ],
                          [
                            0.3333333333333333,
                            "#9c179e"
                          ],
                          [
                            0.4444444444444444,
                            "#bd3786"
                          ],
                          [
                            0.5555555555555556,
                            "#d8576b"
                          ],
                          [
                            0.6666666666666666,
                            "#ed7953"
                          ],
                          [
                            0.7777777777777778,
                            "#fb9f3a"
                          ],
                          [
                            0.8888888888888888,
                            "#fdca26"
                          ],
                          [
                            1,
                            "#f0f921"
                          ]
                        ],
                        "type": "surface"
                      }
                    ],
                    "table": [
                      {
                        "cells": {
                          "fill": {
                            "color": "#EBF0F8"
                          },
                          "line": {
                            "color": "white"
                          }
                        },
                        "header": {
                          "fill": {
                            "color": "#C8D4E3"
                          },
                          "line": {
                            "color": "white"
                          }
                        },
                        "type": "table"
                      }
                    ]
                  },
                  "layout": {
                    "annotationdefaults": {
                      "arrowcolor": "#2a3f5f",
                      "arrowhead": 0,
                      "arrowwidth": 1
                    },
                    "autotypenumbers": "strict",
                    "coloraxis": {
                      "colorbar": {
                        "outlinewidth": 0,
                        "ticks": ""
                      }
                    },
                    "colorscale": {
                      "diverging": [
                        [
                          0,
                          "#8e0152"
                        ],
                        [
                          0.1,
                          "#c51b7d"
                        ],
                        [
                          0.2,
                          "#de77ae"
                        ],
                        [
                          0.3,
                          "#f1b6da"
                        ],
                        [
                          0.4,
                          "#fde0ef"
                        ],
                        [
                          0.5,
                          "#f7f7f7"
                        ],
                        [
                          0.6,
                          "#e6f5d0"
                        ],
                        [
                          0.7,
                          "#b8e186"
                        ],
                        [
                          0.8,
                          "#7fbc41"
                        ],
                        [
                          0.9,
                          "#4d9221"
                        ],
                        [
                          1,
                          "#276419"
                        ]
                      ],
                      "sequential": [
                        [
                          0,
                          "#0d0887"
                        ],
                        [
                          0.1111111111111111,
                          "#46039f"
                        ],
                        [
                          0.2222222222222222,
                          "#7201a8"
                        ],
                        [
                          0.3333333333333333,
                          "#9c179e"
                        ],
                        [
                          0.4444444444444444,
                          "#bd3786"
                        ],
                        [
                          0.5555555555555556,
                          "#d8576b"
                        ],
                        [
                          0.6666666666666666,
                          "#ed7953"
                        ],
                        [
                          0.7777777777777778,
                          "#fb9f3a"
                        ],
                        [
                          0.8888888888888888,
                          "#fdca26"
                        ],
                        [
                          1,
                          "#f0f921"
                        ]
                      ],
                      "sequentialminus": [
                        [
                          0,
                          "#0d0887"
                        ],
                        [
                          0.1111111111111111,
                          "#46039f"
                        ],
                        [
                          0.2222222222222222,
                          "#7201a8"
                        ],
                        [
                          0.3333333333333333,
                          "#9c179e"
                        ],
                        [
                          0.4444444444444444,
                          "#bd3786"
                        ],
                        [
                          0.5555555555555556,
                          "#d8576b"
                        ],
                        [
                          0.6666666666666666,
                          "#ed7953"
                        ],
                        [
                          0.7777777777777778,
                          "#fb9f3a"
                        ],
                        [
                          0.8888888888888888,
                          "#fdca26"
                        ],
                        [
                          1,
                          "#f0f921"
                        ]
                      ]
                    },
                    "colorway": [
                      "#636efa",
                      "#EF553B",
                      "#00cc96",
                      "#ab63fa",
                      "#FFA15A",
                      "#19d3f3",
                      "#FF6692",
                      "#B6E880",
                      "#FF97FF",
                      "#FECB52"
                    ],
                    "font": {
                      "color": "#2a3f5f"
                    },
                    "geo": {
                      "bgcolor": "white",
                      "lakecolor": "white",
                      "landcolor": "#E5ECF6",
                      "showlakes": true,
                      "showland": true,
                      "subunitcolor": "white"
                    },
                    "hoverlabel": {
                      "align": "left"
                    },
                    "hovermode": "closest",
                    "mapbox": {
                      "style": "light"
                    },
                    "paper_bgcolor": "white",
                    "plot_bgcolor": "#E5ECF6",
                    "polar": {
                      "angularaxis": {
                        "gridcolor": "white",
                        "linecolor": "white",
                        "ticks": ""
                      },
                      "bgcolor": "#E5ECF6",
                      "radialaxis": {
                        "gridcolor": "white",
                        "linecolor": "white",
                        "ticks": ""
                      }
                    },
                    "scene": {
                      "xaxis": {
                        "backgroundcolor": "#E5ECF6",
                        "gridcolor": "white",
                        "gridwidth": 2,
                        "linecolor": "white",
                        "showbackground": true,
                        "ticks": "",
                        "zerolinecolor": "white"
                      },
                      "yaxis": {
                        "backgroundcolor": "#E5ECF6",
                        "gridcolor": "white",
                        "gridwidth": 2,
                        "linecolor": "white",
                        "showbackground": true,
                        "ticks": "",
                        "zerolinecolor": "white"
                      },
                      "zaxis": {
                        "backgroundcolor": "#E5ECF6",
                        "gridcolor": "white",
                        "gridwidth": 2,
                        "linecolor": "white",
                        "showbackground": true,
                        "ticks": "",
                        "zerolinecolor": "white"
                      }
                    },
                    "shapedefaults": {
                      "line": {
                        "color": "#2a3f5f"
                      }
                    },
                    "ternary": {
                      "aaxis": {
                        "gridcolor": "white",
                        "linecolor": "white",
                        "ticks": ""
                      },
                      "baxis": {
                        "gridcolor": "white",
                        "linecolor": "white",
                        "ticks": ""
                      },
                      "bgcolor": "#E5ECF6",
                      "caxis": {
                        "gridcolor": "white",
                        "linecolor": "white",
                        "ticks": ""
                      }
                    },
                    "title": {
                      "x": 0.05
                    },
                    "xaxis": {
                      "automargin": true,
                      "gridcolor": "white",
                      "linecolor": "white",
                      "ticks": "",
                      "title": {
                        "standoff": 15
                      },
                      "zerolinecolor": "white",
                      "zerolinewidth": 2
                    },
                    "yaxis": {
                      "automargin": true,
                      "gridcolor": "white",
                      "linecolor": "white",
                      "ticks": "",
                      "title": {
                        "standoff": 15
                      },
                      "zerolinecolor": "white",
                      "zerolinewidth": 2
                    }
                  }
                },
                "xaxis": {
                  "anchor": "y",
                  "domain": [
                    0,
                    1
                  ],
                  "title": {
                    "text": "TipoAccidente"
                  }
                },
                "yaxis": {
                  "anchor": "x",
                  "domain": [
                    0,
                    1
                  ],
                  "title": {
                    "text": "Cantidad"
                  }
                }
              }
            }
          },
          "metadata": {},
          "output_type": "display_data"
        }
      ],
      "source": [
        "import plotly.express as px\n",
        "\n",
        "# Filtrar los datos donde Muestra es igual a \"Regional\" y Anio es igual a 2011\n",
        "tipos2011 = tipos[(tipos['Muestra'] == 'Regional') & (tipos['Anio'] == 2010)]\n",
        "fig = px.box(tipos2011, y=\"Cantidad\", x=\"TipoAccidente\")\n",
        "fig.show()"
      ]
    },
    {
      "cell_type": "markdown",
      "metadata": {},
      "source": [
        "De nuevo la gran diferencia con respecto a la Región Metropolitana nos hace perder información al reducir tanto el tamaño de las demás cajas. Ocupamos de código fuente el Tutorial_2.ipynb"
      ]
    },
    {
      "cell_type": "code",
      "execution_count": null,
      "metadata": {},
      "outputs": [],
      "source": [
        "'''\n",
        "import plotly.express as px\n",
        "\n",
        "# Filtrar los datos donde Muestra es igual a \"Regional\" y Anio es igual a 2011\n",
        "tipos2011 = tipos[(tipos['Muestra'] == 'Regional') & (tipos['Anio'] == 2011)]\n",
        "fig = px.box(tipos2011, x=\"Cantidad\", y=\"TipoAccidente\")\n",
        "fig.show()\n",
        "'''"
      ]
    },
    {
      "cell_type": "markdown",
      "metadata": {
        "id": "YcdoU9_OvRa3"
      },
      "source": [
        "6. ¿Qué otra forma de explorar los datos podría agregar para el dataset de Accidentes de tránsito y qué información adicional aporta? Adjunte el código necesario."
      ]
    },
    {
      "cell_type": "code",
      "execution_count": 15,
      "metadata": {},
      "outputs": [
        {
          "name": "stdout",
          "output_type": "stream",
          "text": [
            "Anio                                  2010     2011\n",
            "Descripcion                                        \n",
            "I Región de Tarapacá                 870.0   1000.0\n",
            "II Región de Antofagasta            1938.0   2186.0\n",
            "III Región de Atacama                649.0    770.0\n",
            "IV Región de Coquimbo               1947.0   2293.0\n",
            "IX Región de la Araucanía           3514.0   3985.0\n",
            "Región Metropolitana               21675.0  23520.0\n",
            "V Región de Valparaíso              7023.0   7724.0\n",
            "VI Región del Lib. Bdo. O´Higgins   3408.0   3542.0\n",
            "VII Región del Bio-Bio                 0.0   6643.0\n",
            "VII Región del Maule                4541.0   4390.0\n",
            "VIII Región del Bio-Bio             6128.0      0.0\n",
            "X Región de Los Lagos               2585.0   2965.0\n",
            "XI Región de Aysén                   618.0    598.0\n",
            "XII Región de Magallanes            1259.0   1020.0\n",
            "XIV Región de Los Ríos               993.0   1180.0\n",
            "XV Región Arica y Parinacota         598.0   1018.0\n"
          ]
        },
        {
          "data": {
            "image/png": "[encoded data removed]",
            "text/plain": [
              "<Figure size 1000x600 with 1 Axes>"
            ]
          },
          "metadata": {},
          "output_type": "display_data"
        }
      ],
      "source": [
        "histograma_regional = tipos[(tipos['Muestra'] == 'Regional')]\n",
        "# Agrupar los datos por región y año y sumar la cantidad para cada grupo\n",
        "grouped_data = histograma_regional.groupby(['Descripcion', 'Anio'])['Cantidad'].sum().unstack().fillna(0)\n",
        "print(grouped_data)\n",
        "\n",
        "# Graficar el histograma con barras para cada región y año\n",
        "grouped_data.plot(kind='bar', figsize=(10, 6))\n",
        "plt.xlabel('Región')\n",
        "plt.ylabel('Cantidad de Accidentes')\n",
        "plt.title('Comparación de Cantidad de Accidentes por Región y Año')\n",
        "plt.xticks(rotation=80)\n",
        "plt.legend(title='Año')\n",
        "plt.show()"
      ]
    },
    {
      "cell_type": "markdown",
      "metadata": {},
      "source": [
        "Con este gráfico, lo que hacemos es comparar la cantidad de accidentes por región para cada año. Pudimos identificar que la mayoría de las regiones aumentaron el número de accidentes en el año 2011. Además, nos dimos cuenta que en esos años el número de la región del Bio-Bio cambió (VII a VII). El código fue una mezcla entre conceptos del Tutorial_1.ipynb, Tutorial_2.ipynb para graficar, https://docs.kanaries.net/es/topics/Pandas/pandas-unstack para el unstack() y https://www.w3schools.com/python/pandas/ref_df_fillna.asp para el fillna(0)"
      ]
    },
    {
      "cell_type": "markdown",
      "metadata": {
        "id": "tMTcXnfSvRa3"
      },
      "source": [
        "## Diabetes\n",
        "Considere el set de datos de pacientes para la predicción de diabetes con las siguientes columnas:\n",
        "\n",
        "- gender: género del paciente\n",
        "- age: edad del paciente\n",
        "- hypertension: indica si el paciente tiene o no hipertensión\n",
        "- heart_disease: indica si el paciente tiene o no enfermedad cardiaca\n",
        "- smoking_history: indica si el paciente es o fue fumador\n",
        "- bmi: indice de masa corporal del paciente\n",
        "- HbA1c_level: Hemoglobina HbA1c del paciente\n",
        "- blood_glucose_level: Nivel de glucosa en sangre del paciente\n",
        "- diabetes: si el paciente tiene o no diabetes"
      ]
    },
    {
      "cell_type": "code",
      "execution_count": 16,
      "metadata": {
        "id": "_S1MRV5ZvRa3",
        "outputId": "b2a65957-ba31-48b5-d4e6-61d2f767595a"
      },
      "outputs": [
        {
          "data": {
            "text/html": [
              "<div>\n",
              "<style scoped>\n",
              "    .dataframe tbody tr th:only-of-type {\n",
              "        vertical-align: middle;\n",
              "    }\n",
              "\n",
              "    .dataframe tbody tr th {\n",
              "        vertical-align: top;\n",
              "    }\n",
              "\n",
              "    .dataframe thead th {\n",
              "        text-align: right;\n",
              "    }\n",
              "</style>\n",
              "<table border=\"1\" class=\"dataframe\">\n",
              "  <thead>\n",
              "    <tr style=\"text-align: right;\">\n",
              "      <th></th>\n",
              "      <th>gender</th>\n",
              "      <th>age</th>\n",
              "      <th>hypertension</th>\n",
              "      <th>heart_disease</th>\n",
              "      <th>smoking_history</th>\n",
              "      <th>bmi</th>\n",
              "      <th>HbA1c_level</th>\n",
              "      <th>blood_glucose_level</th>\n",
              "      <th>diabetes</th>\n",
              "    </tr>\n",
              "  </thead>\n",
              "  <tbody>\n",
              "    <tr>\n",
              "      <th>0</th>\n",
              "      <td>Female</td>\n",
              "      <td>80.0</td>\n",
              "      <td>0</td>\n",
              "      <td>1</td>\n",
              "      <td>never</td>\n",
              "      <td>25.19</td>\n",
              "      <td>6.6</td>\n",
              "      <td>140</td>\n",
              "      <td>0</td>\n",
              "    </tr>\n",
              "    <tr>\n",
              "      <th>1</th>\n",
              "      <td>Female</td>\n",
              "      <td>54.0</td>\n",
              "      <td>0</td>\n",
              "      <td>0</td>\n",
              "      <td>No Info</td>\n",
              "      <td>27.32</td>\n",
              "      <td>6.6</td>\n",
              "      <td>80</td>\n",
              "      <td>0</td>\n",
              "    </tr>\n",
              "    <tr>\n",
              "      <th>2</th>\n",
              "      <td>Male</td>\n",
              "      <td>28.0</td>\n",
              "      <td>0</td>\n",
              "      <td>0</td>\n",
              "      <td>never</td>\n",
              "      <td>27.32</td>\n",
              "      <td>5.7</td>\n",
              "      <td>158</td>\n",
              "      <td>0</td>\n",
              "    </tr>\n",
              "    <tr>\n",
              "      <th>3</th>\n",
              "      <td>Female</td>\n",
              "      <td>36.0</td>\n",
              "      <td>0</td>\n",
              "      <td>0</td>\n",
              "      <td>current</td>\n",
              "      <td>23.45</td>\n",
              "      <td>5.0</td>\n",
              "      <td>155</td>\n",
              "      <td>0</td>\n",
              "    </tr>\n",
              "    <tr>\n",
              "      <th>4</th>\n",
              "      <td>Male</td>\n",
              "      <td>76.0</td>\n",
              "      <td>1</td>\n",
              "      <td>1</td>\n",
              "      <td>current</td>\n",
              "      <td>20.14</td>\n",
              "      <td>4.8</td>\n",
              "      <td>155</td>\n",
              "      <td>0</td>\n",
              "    </tr>\n",
              "  </tbody>\n",
              "</table>\n",
              "</div>"
            ],
            "text/plain": [
              "   gender   age  hypertension  heart_disease smoking_history    bmi  \\\n",
              "0  Female  80.0             0              1           never  25.19   \n",
              "1  Female  54.0             0              0         No Info  27.32   \n",
              "2    Male  28.0             0              0           never  27.32   \n",
              "3  Female  36.0             0              0         current  23.45   \n",
              "4    Male  76.0             1              1         current  20.14   \n",
              "\n",
              "   HbA1c_level  blood_glucose_level  diabetes  \n",
              "0          6.6                  140         0  \n",
              "1          6.6                   80         0  \n",
              "2          5.7                  158         0  \n",
              "3          5.0                  155         0  \n",
              "4          4.8                  155         0  "
            ]
          },
          "execution_count": 16,
          "metadata": {},
          "output_type": "execute_result"
        }
      ],
      "source": [
        "diabetes = pd.read_csv(\"https://raw.githubusercontent.com/mzambrano1/Datasets-CC5205-otono-2023/master/lab1.2%202023-2/diabetes_prediction_dataset.csv\")\n",
        "diabetes.head()"
      ]
    },
    {
      "cell_type": "markdown",
      "metadata": {
        "id": "b-mswQKJvRa3"
      },
      "source": [
        "7. Para explorar el dataset, realice un análisis de frecuencias de los atributos categóricos (categorías binarias y multiclase).\n",
        "\n"
      ]
    },
    {
      "cell_type": "code",
      "execution_count": 17,
      "metadata": {},
      "outputs": [
        {
          "data": {
            "text/plain": [
              "gender                  object\n",
              "age                    float64\n",
              "hypertension             int64\n",
              "heart_disease            int64\n",
              "smoking_history         object\n",
              "bmi                    float64\n",
              "HbA1c_level            float64\n",
              "blood_glucose_level      int64\n",
              "diabetes                 int64\n",
              "dtype: object"
            ]
          },
          "execution_count": 17,
          "metadata": {},
          "output_type": "execute_result"
        }
      ],
      "source": [
        "diabetes.dtypes"
      ]
    },
    {
      "cell_type": "code",
      "execution_count": 18,
      "metadata": {
        "id": "f-Q5gED1vRa4"
      },
      "outputs": [
        {
          "name": "stdout",
          "output_type": "stream",
          "text": [
            "gender\n",
            "Female    58552\n",
            "Male      41430\n",
            "Other        18\n",
            "Name: count, dtype: int64\n",
            "hypertension\n",
            "0    92515\n",
            "1     7485\n",
            "Name: count, dtype: int64\n",
            "heart_disease\n",
            "0    96058\n",
            "1     3942\n",
            "Name: count, dtype: int64\n",
            "smoking_history\n",
            "No Info        35816\n",
            "never          35095\n",
            "former          9352\n",
            "current         9286\n",
            "not current     6447\n",
            "ever            4004\n",
            "Name: count, dtype: int64\n",
            "diabetes\n",
            "0    91500\n",
            "1     8500\n",
            "Name: count, dtype: int64\n"
          ]
        }
      ],
      "source": [
        "print(diabetes['gender'].value_counts(dropna=True))\n",
        "print(diabetes['hypertension'].value_counts(dropna=True))\n",
        "print(diabetes['heart_disease'].value_counts(dropna=True))\n",
        "print(diabetes['smoking_history'].value_counts(dropna=True))\n",
        "print(diabetes['diabetes'].value_counts(dropna=True))\n"
      ]
    },
    {
      "cell_type": "markdown",
      "metadata": {},
      "source": [
        "Ocupamos de código fuente el Tutorial_2.ipynb"
      ]
    },
    {
      "cell_type": "code",
      "execution_count": null,
      "metadata": {},
      "outputs": [],
      "source": [
        "'''\n",
        "# would allow you to view unique values and counts for a series (like a column or a few columns).\n",
        "mtcars_df['AM'].value_counts(dropna=False)\n",
        "'''"
      ]
    },
    {
      "cell_type": "markdown",
      "metadata": {
        "id": "OSYhWauUvRa4"
      },
      "source": [
        "8. Muestre estadísticas de resumen para las variables numéricas y comenten sus observaciones."
      ]
    },
    {
      "cell_type": "code",
      "execution_count": 19,
      "metadata": {
        "id": "bk10zYQSvRa4"
      },
      "outputs": [
        {
          "data": {
            "text/html": [
              "<div>\n",
              "<style scoped>\n",
              "    .dataframe tbody tr th:only-of-type {\n",
              "        vertical-align: middle;\n",
              "    }\n",
              "\n",
              "    .dataframe tbody tr th {\n",
              "        vertical-align: top;\n",
              "    }\n",
              "\n",
              "    .dataframe thead th {\n",
              "        text-align: right;\n",
              "    }\n",
              "</style>\n",
              "<table border=\"1\" class=\"dataframe\">\n",
              "  <thead>\n",
              "    <tr style=\"text-align: right;\">\n",
              "      <th></th>\n",
              "      <th>age</th>\n",
              "      <th>hypertension</th>\n",
              "      <th>heart_disease</th>\n",
              "      <th>bmi</th>\n",
              "      <th>HbA1c_level</th>\n",
              "      <th>blood_glucose_level</th>\n",
              "      <th>diabetes</th>\n",
              "    </tr>\n",
              "  </thead>\n",
              "  <tbody>\n",
              "    <tr>\n",
              "      <th>count</th>\n",
              "      <td>100000.000000</td>\n",
              "      <td>100000.00000</td>\n",
              "      <td>100000.000000</td>\n",
              "      <td>100000.000000</td>\n",
              "      <td>100000.000000</td>\n",
              "      <td>100000.000000</td>\n",
              "      <td>100000.000000</td>\n",
              "    </tr>\n",
              "    <tr>\n",
              "      <th>mean</th>\n",
              "      <td>41.885856</td>\n",
              "      <td>0.07485</td>\n",
              "      <td>0.039420</td>\n",
              "      <td>27.320767</td>\n",
              "      <td>5.527507</td>\n",
              "      <td>138.058060</td>\n",
              "      <td>0.085000</td>\n",
              "    </tr>\n",
              "    <tr>\n",
              "      <th>std</th>\n",
              "      <td>22.516840</td>\n",
              "      <td>0.26315</td>\n",
              "      <td>0.194593</td>\n",
              "      <td>6.636783</td>\n",
              "      <td>1.070672</td>\n",
              "      <td>40.708136</td>\n",
              "      <td>0.278883</td>\n",
              "    </tr>\n",
              "    <tr>\n",
              "      <th>min</th>\n",
              "      <td>0.080000</td>\n",
              "      <td>0.00000</td>\n",
              "      <td>0.000000</td>\n",
              "      <td>10.010000</td>\n",
              "      <td>3.500000</td>\n",
              "      <td>80.000000</td>\n",
              "      <td>0.000000</td>\n",
              "    </tr>\n",
              "    <tr>\n",
              "      <th>25%</th>\n",
              "      <td>24.000000</td>\n",
              "      <td>0.00000</td>\n",
              "      <td>0.000000</td>\n",
              "      <td>23.630000</td>\n",
              "      <td>4.800000</td>\n",
              "      <td>100.000000</td>\n",
              "      <td>0.000000</td>\n",
              "    </tr>\n",
              "    <tr>\n",
              "      <th>50%</th>\n",
              "      <td>43.000000</td>\n",
              "      <td>0.00000</td>\n",
              "      <td>0.000000</td>\n",
              "      <td>27.320000</td>\n",
              "      <td>5.800000</td>\n",
              "      <td>140.000000</td>\n",
              "      <td>0.000000</td>\n",
              "    </tr>\n",
              "    <tr>\n",
              "      <th>75%</th>\n",
              "      <td>60.000000</td>\n",
              "      <td>0.00000</td>\n",
              "      <td>0.000000</td>\n",
              "      <td>29.580000</td>\n",
              "      <td>6.200000</td>\n",
              "      <td>159.000000</td>\n",
              "      <td>0.000000</td>\n",
              "    </tr>\n",
              "    <tr>\n",
              "      <th>max</th>\n",
              "      <td>80.000000</td>\n",
              "      <td>1.00000</td>\n",
              "      <td>1.000000</td>\n",
              "      <td>95.690000</td>\n",
              "      <td>9.000000</td>\n",
              "      <td>300.000000</td>\n",
              "      <td>1.000000</td>\n",
              "    </tr>\n",
              "  </tbody>\n",
              "</table>\n",
              "</div>"
            ],
            "text/plain": [
              "                 age  hypertension  heart_disease            bmi  \\\n",
              "count  100000.000000  100000.00000  100000.000000  100000.000000   \n",
              "mean       41.885856       0.07485       0.039420      27.320767   \n",
              "std        22.516840       0.26315       0.194593       6.636783   \n",
              "min         0.080000       0.00000       0.000000      10.010000   \n",
              "25%        24.000000       0.00000       0.000000      23.630000   \n",
              "50%        43.000000       0.00000       0.000000      27.320000   \n",
              "75%        60.000000       0.00000       0.000000      29.580000   \n",
              "max        80.000000       1.00000       1.000000      95.690000   \n",
              "\n",
              "         HbA1c_level  blood_glucose_level       diabetes  \n",
              "count  100000.000000        100000.000000  100000.000000  \n",
              "mean        5.527507           138.058060       0.085000  \n",
              "std         1.070672            40.708136       0.278883  \n",
              "min         3.500000            80.000000       0.000000  \n",
              "25%         4.800000           100.000000       0.000000  \n",
              "50%         5.800000           140.000000       0.000000  \n",
              "75%         6.200000           159.000000       0.000000  \n",
              "max         9.000000           300.000000       1.000000  "
            ]
          },
          "execution_count": 19,
          "metadata": {},
          "output_type": "execute_result"
        }
      ],
      "source": [
        "diabetes.describe()"
      ]
    },
    {
      "cell_type": "markdown",
      "metadata": {},
      "source": [
        "Como se puede apreciar en la celda donde vemos los tipos de los atributos, todos eran numericos (int o float) excepto **smoking_history**, el cual vemos que el método describe automáticamente lo descarta para obtener el resumen. \n",
        "\n",
        "Podemos observar lo siguiente:\n",
        "* Edad: Van desde recien nacidos hasta adultos mayores de 80 años. La mediana y la media tienen valores similares.\n",
        "* Hipertensión: Aproximadamente solo el 7% de las personas sufren de hipertensión.\n",
        "* Problemas cardíacos: Casi el 4% de las personas tienen problemas cardiacos.\n",
        "* bmi: La mediana y la media son casi idénticas, con un valor cercano a 27 (sobrepeso). Existe un outlier máximo de 95, tomar en cuenta que mayor a 35 es obesidad extrema!. \n",
        "* HbA1c_level: El máximo es 9, y nuevamente la mediana y la media son parecidas.\n",
        "* blood_glucose_level: El rango intercuartil es de 59.\n",
        "* diabetes: Solo el 8.5% de las personas posee diabetes."
      ]
    },
    {
      "cell_type": "markdown",
      "metadata": {},
      "source": [
        "Ocupamos de código fuente el Tutorial_2.ipynb"
      ]
    },
    {
      "cell_type": "code",
      "execution_count": null,
      "metadata": {},
      "outputs": [],
      "source": [
        "'''\n",
        "# Displays descriptive stats for all columns\n",
        "mtcars_df.describe()\n",
        "'''"
      ]
    },
    {
      "cell_type": "markdown",
      "metadata": {
        "id": "0AcGLVkczvU1"
      },
      "source": [
        "Y eso es todo por hoy :)\n"
      ]
    },
    {
      "cell_type": "markdown",
      "metadata": {
        "id": "ksfnbdLOvRa4"
      },
      "source": [
        "![image.png](attachment:image.png)"
      ]
    }
  ],
  "metadata": {
    "colab": {
      "provenance": []
    },
    "kernelspec": {
      "display_name": "Python 3",
      "name": "python3"
    },
    "language_info": {
      "codemirror_mode": {
        "name": "ipython",
        "version": 3
      },
      "file_extension": ".py",
      "mimetype": "text/x-python",
      "name": "python",
      "nbconvert_exporter": "python",
      "pygments_lexer": "ipython3",
      "version": "3.12.2"
    }
  },
  "nbformat": 4,
  "nbformat_minor": 0
}
