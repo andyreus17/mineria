{
  "cells": [
    {
      "cell_type": "markdown",
      "metadata": {
        "id": "-CnSaU7yuHuo"
      },
      "source": [
        "# Laboratorio 1: Exploración y Visualización de Datos\n",
        "Fecha: Marzo 2024\n",
        "\n",
        "Integrantes: **Vicente Leyton C. - Andrés Salazar C.**\n"
      ]
    },
    {
      "cell_type": "markdown",
      "metadata": {
        "id": "N3o-gTDiuw5O"
      },
      "source": [
        "## Declaración de compromiso ético\n",
        "\n",
        "Nosotros/as **Vicente Leyton C. - Andrés Salazar C.**, declaramos que realizamos de manera grupal los pasos de la presente actividad. También declaramos no incurrir en copia, ni compartir nuestras respuestas con otras personas ni con otros grupos. Por lo que, ratificamos que las respuestas son de nuestra propia confección y reflejan nuestro propio conocimiento."
      ]
    },
    {
      "cell_type": "markdown",
      "metadata": {
        "id": "DAB7Kb-fuwH4"
      },
      "source": [
        "## Instrucciones\n",
        "\n",
        "1.  Trabajen en equipos de dos personas. Salvo excepciones, no se corregirá entregas con menos de dos integrantes.\n",
        "\n",
        "2.  Modifique este archivo `.ipynb` agregando sus respuestas donde corresponda. Puede ocupar Jupyter notebook en su computador o usar Google Colab como alternativa online.\n",
        "\n",
        "3.  Para cada pregunta **incluya el código fuente que utilizó para llegar a su respuesta. Respuestas sin código no recibirán puntaje.**.\n",
        "\n",
        "4.  El formato de entrega para esta actividad es un archivo **html**. **Genere un archivo HTML usando Jupyter** y súbalo a U-Cursos. Basta con que un/a integrante haga la entrega. Si ambos/as hacen una entrega en U-Cursos, se revisará cualquiera de éstas."
      ]
    },
    {
      "cell_type": "markdown",
      "metadata": {
        "id": "aOoASC9ywZ3D"
      },
      "source": [
        "## Laboratorio\n",
        "\n",
        "Ahora vamos a jugar con los datos!\n",
        "\n",
        "En este laboratorio trabajaremos con un dataset del tema favorito de todxs... el anime. El dataset fue obtenido de \"https://www.kaggle.com/datasets/azathoth42/myanimelist\" y consta de informacion sobre animes de la pagina MyAnimeList (MAL)\n",
        "\n",
        "Este set de datos consiste de dos archivos. \"anime.csv\" contiene 6 atributos: \"title\", \"type\", \"source\", \"episodes\", \"airing\" y \"studio\", que corresponden a informacion sobre el anime, y \"anime-stats.csv\" contiene 4 atributos: \"title\", \"score\", \"members\" (numero de usuarios que tienen el anime en su lista) y \"favorites\", que corresponden a estadisticas en MyAnimeList sobre la popularidad de animes.\n",
        "\n",
        "Para cargar los datos desde tu computador, usa:"
      ]
    },
    {
      "cell_type": "code",
      "execution_count": 10,
      "metadata": {
        "id": "xyQGRN44ws0n"
      },
      "outputs": [],
      "source": [
        "import pandas as pd\n",
        "import matplotlib.pyplot as plt"
      ]
    },
    {
      "cell_type": "code",
      "execution_count": null,
      "metadata": {
        "id": "ltDQGTy2wnpL"
      },
      "outputs": [],
      "source": [
        "#los archivos deben estar en la carpeta del notebook\n",
        "df_anime = pd.read_csv('anime.csv', encoding=\"UTF-8\")\n",
        "df_stats = pd.read_csv('anime-stats.csv', encoding=\"UTF-8\")"
      ]
    },
    {
      "cell_type": "markdown",
      "metadata": {
        "id": "b8jdCwYhwyOV"
      },
      "source": [
        "También puedes cargarlos remotamente de un repositorio usando el link a los archivos:\n"
      ]
    },
    {
      "cell_type": "code",
      "execution_count": 11,
      "metadata": {
        "id": "2_8H7ZEJwx7O"
      },
      "outputs": [],
      "source": [
        "df_anime = pd.read_csv('https://raw.githubusercontent.com/bacchus00/cositas/main/anime.csv', encoding=\"UTF-8\")\n",
        "df_stats = pd.read_csv('https://raw.githubusercontent.com/bacchus00/cositas/main/anime-stats.csv', encoding=\"UTF-8\")"
      ]
    },
    {
      "cell_type": "markdown",
      "metadata": {
        "id": "uHNVPuI4xN1W"
      },
      "source": [
        "### Exploración básica\n"
      ]
    },
    {
      "cell_type": "markdown",
      "metadata": {
        "id": "5HVzVMbYxRhV"
      },
      "source": [
        "1.  ¿Cuáles son las dimensiones de ambos dataframes (filas, columnas)?\n"
      ]
    },
    {
      "cell_type": "code",
      "execution_count": 12,
      "metadata": {
        "id": "AoR9h9R8xLsY"
      },
      "outputs": [
        {
          "name": "stdout",
          "output_type": "stream",
          "text": [
            "anime dimentions: (14478, 6) \n",
            "stats dimentions: (14478, 4)\n"
          ]
        }
      ],
      "source": [
        "anime_dimentions = df_anime.shape\n",
        "stats_dimentions = df_stats.shape\n",
        "print(f\"anime dimentions: {anime_dimentions} \\nstats dimentions: {stats_dimentions}\")"
      ]
    },
    {
      "cell_type": "markdown",
      "metadata": {},
      "source": [
        "Las dimensiones para el dataframe de anime son (14478, 6) y para el de stats son (14478,4)"
      ]
    },
    {
      "cell_type": "markdown",
      "metadata": {},
      "source": [
        "**Fuente**\n",
        "\n",
        "metodo shape: https://www.delftstack.com/es/howto/python-pandas/how-to-get-the-row-count-of-a-pandas-dataframe/#el-m%c3%a9todo-shape-para-obtener-el-n%c3%bamero-de-filas-de-dataframe"
      ]
    },
    {
      "cell_type": "markdown",
      "metadata": {
        "id": "2u883gTnxSe1"
      },
      "source": [
        "2.  ¿Existen filas duplicadas en alguno de los dataframes?\n"
      ]
    },
    {
      "cell_type": "code",
      "execution_count": 13,
      "metadata": {},
      "outputs": [
        {
          "name": "stdout",
          "output_type": "stream",
          "text": [
            "False\n",
            "False\n"
          ]
        }
      ],
      "source": [
        "print(df_anime.duplicated().any())\n",
        "print(df_stats.duplicated().any())"
      ]
    },
    {
      "cell_type": "markdown",
      "metadata": {},
      "source": [
        "Como podemos ver, no existen filas duplicadas para ninguno de los dataframes"
      ]
    },
    {
      "cell_type": "markdown",
      "metadata": {},
      "source": [
        "https://stackoverflow.com/questions/60753830/find-duplicate-rows-from-df-python#:~:text=duplicated%20actually%20returns%20a%20Series%20containing%20boolean%20values,if%20there%20is%20any%20duplicate%20in%20your%20DataFrame."
      ]
    },
    {
      "cell_type": "markdown",
      "metadata": {
        "id": "txTGpQT7x77U"
      },
      "source": [
        "3.  ¿Hay filas con valores nulos en alguno de los dataframes?"
      ]
    },
    {
      "cell_type": "code",
      "execution_count": 14,
      "metadata": {},
      "outputs": [
        {
          "name": "stdout",
          "output_type": "stream",
          "text": [
            "True\n",
            "False\n"
          ]
        }
      ],
      "source": [
        "print(df_anime.isnull().any().any())\n",
        "print(df_stats.isnull().any().any())"
      ]
    },
    {
      "cell_type": "markdown",
      "metadata": {},
      "source": [
        "Si, el dataframe de anime contiene filas con valores nulos, pero el de stats no."
      ]
    },
    {
      "cell_type": "markdown",
      "metadata": {},
      "source": [
        "**Fuentes**\n",
        "\n",
        "* https://www.analyticslane.com/2021/08/12/pandas-contar-los-valores-nulos-en-dataframe/\n",
        "\n",
        "* https://es.stackoverflow.com/questions/221050/conocer-si-una-fila-de-un-dataframe-tiene-un-valor-nan-pandas#:~:text=Si%20yo%20quiero%20saber%20si%20hay%20alg%C3%BAn%20valor,quiero%20saber%20valor%20a%20valor%2C%20a%20%3D%20df.isnull%28%29"
      ]
    },
    {
      "cell_type": "markdown",
      "metadata": {
        "id": "N8mB-040ynfR"
      },
      "source": [
        "### Análisis\n",
        "\n",
        "Ahora para hacer el análisis más sencillo juntaremos ambas tablas  usando como llave el nombre del anime (title)."
      ]
    },
    {
      "cell_type": "code",
      "execution_count": 15,
      "metadata": {
        "colab": {
          "base_uri": "https://localhost:8080/",
          "height": 206
        },
        "id": "UKw7UPFoyvkr",
        "outputId": "fa2c2a4b-e70a-4693-ea68-7a02356b3c6e"
      },
      "outputs": [
        {
          "data": {
            "text/html": [
              "<div>\n",
              "<style scoped>\n",
              "    .dataframe tbody tr th:only-of-type {\n",
              "        vertical-align: middle;\n",
              "    }\n",
              "\n",
              "    .dataframe tbody tr th {\n",
              "        vertical-align: top;\n",
              "    }\n",
              "\n",
              "    .dataframe thead th {\n",
              "        text-align: right;\n",
              "    }\n",
              "</style>\n",
              "<table border=\"1\" class=\"dataframe\">\n",
              "  <thead>\n",
              "    <tr style=\"text-align: right;\">\n",
              "      <th></th>\n",
              "      <th>title</th>\n",
              "      <th>type</th>\n",
              "      <th>source</th>\n",
              "      <th>episodes</th>\n",
              "      <th>airing</th>\n",
              "      <th>studio</th>\n",
              "      <th>score</th>\n",
              "      <th>members</th>\n",
              "      <th>favorites</th>\n",
              "    </tr>\n",
              "  </thead>\n",
              "  <tbody>\n",
              "    <tr>\n",
              "      <th>2871</th>\n",
              "      <td>JoJo no Kimyou na Bouken: Diamond wa Kudakenai</td>\n",
              "      <td>TV</td>\n",
              "      <td>Manga</td>\n",
              "      <td>39</td>\n",
              "      <td>False</td>\n",
              "      <td>David Production</td>\n",
              "      <td>8.63</td>\n",
              "      <td>181435</td>\n",
              "      <td>7188</td>\n",
              "    </tr>\n",
              "    <tr>\n",
              "      <th>11986</th>\n",
              "      <td>Toaru Hikuushi e no Tsuioku</td>\n",
              "      <td>Movie</td>\n",
              "      <td>Light novel</td>\n",
              "      <td>1</td>\n",
              "      <td>False</td>\n",
              "      <td>Madhouse</td>\n",
              "      <td>7.75</td>\n",
              "      <td>36647</td>\n",
              "      <td>120</td>\n",
              "    </tr>\n",
              "    <tr>\n",
              "      <th>13045</th>\n",
              "      <td>Zo Zo Zo Zombie-kun</td>\n",
              "      <td>ONA</td>\n",
              "      <td>Manga</td>\n",
              "      <td>2</td>\n",
              "      <td>False</td>\n",
              "      <td>NaN</td>\n",
              "      <td>4.42</td>\n",
              "      <td>69</td>\n",
              "      <td>0</td>\n",
              "    </tr>\n",
              "    <tr>\n",
              "      <th>11811</th>\n",
              "      <td>Detective Conan OVA 02: 16 Suspects</td>\n",
              "      <td>OVA</td>\n",
              "      <td>Manga</td>\n",
              "      <td>1</td>\n",
              "      <td>False</td>\n",
              "      <td>TMS Entertainment</td>\n",
              "      <td>7.42</td>\n",
              "      <td>10410</td>\n",
              "      <td>9</td>\n",
              "    </tr>\n",
              "    <tr>\n",
              "      <th>10035</th>\n",
              "      <td>Gokujou!! Mecha Mote Iinchou</td>\n",
              "      <td>TV</td>\n",
              "      <td>Manga</td>\n",
              "      <td>51</td>\n",
              "      <td>False</td>\n",
              "      <td>SynergySP</td>\n",
              "      <td>6.68</td>\n",
              "      <td>4996</td>\n",
              "      <td>17</td>\n",
              "    </tr>\n",
              "  </tbody>\n",
              "</table>\n",
              "</div>"
            ],
            "text/plain": [
              "                                                title   type       source  \\\n",
              "2871   JoJo no Kimyou na Bouken: Diamond wa Kudakenai     TV        Manga   \n",
              "11986                     Toaru Hikuushi e no Tsuioku  Movie  Light novel   \n",
              "13045                             Zo Zo Zo Zombie-kun    ONA        Manga   \n",
              "11811             Detective Conan OVA 02: 16 Suspects    OVA        Manga   \n",
              "10035                    Gokujou!! Mecha Mote Iinchou     TV        Manga   \n",
              "\n",
              "       episodes  airing             studio  score  members  favorites  \n",
              "2871         39   False   David Production   8.63   181435       7188  \n",
              "11986         1   False           Madhouse   7.75    36647        120  \n",
              "13045         2   False                NaN   4.42       69          0  \n",
              "11811         1   False  TMS Entertainment   7.42    10410          9  \n",
              "10035        51   False          SynergySP   6.68     4996         17  "
            ]
          },
          "execution_count": 15,
          "metadata": {},
          "output_type": "execute_result"
        }
      ],
      "source": [
        "df = df_anime.merge(df_stats, on='title')\n",
        "df.sample(5)"
      ]
    },
    {
      "cell_type": "markdown",
      "metadata": {
        "id": "NVskluTWyrA0"
      },
      "source": [
        "1. Lista los animes que tienen una cantidad de episodios mayor o igual a 1000."
      ]
    },
    {
      "cell_type": "code",
      "execution_count": 16,
      "metadata": {
        "id": "9u0I_Ip3zT0B"
      },
      "outputs": [
        {
          "name": "stdout",
          "output_type": "stream",
          "text": [
            "                                       title type    source  episodes  airing  \\\n",
            "3566                   Sekai Monoshiri Ryoko   TV   Unknown      1006   False   \n",
            "3815                  Kirin Monoshiri Yakata   TV   Unknown      1565   False   \n",
            "3816      Manga Nippon Mukashibanashi (1976)   TV   Unknown      1471   False   \n",
            "6231   Monoshiri Daigaku: Ashita no Calendar   TV  Original      1274   False   \n",
            "7765                        Hoka Hoka Kazoku   TV   Unknown      1428   False   \n",
            "11217                        Doraemon (1979)   TV     Manga      1787   False   \n",
            "11629                             Oyako Club   TV  Original      1818   False   \n",
            "13573               Kirin Ashita no Calendar   TV   Unknown      1306   False   \n",
            "\n",
            "                  studio  score  members  favorites  \n",
            "3566                 NaN   6.09      244          0  \n",
            "3815                 NaN   5.98      198          1  \n",
            "3816           Group TAC   6.37      619          2  \n",
            "6231                 NaN   6.42      211          0  \n",
            "7765               Eiken   5.93      295          0  \n",
            "11217  Shin-Ei Animation   7.73    20129        219  \n",
            "11629              Eiken   5.96      324          0  \n",
            "13573                NaN   6.05      146          0  \n"
          ]
        }
      ],
      "source": [
        "df_filtrado = df[df[\"episodes\"] >= 1000]\n",
        "print(df_filtrado)"
      ]
    },
    {
      "cell_type": "markdown",
      "metadata": {},
      "source": [
        "https://www.delftstack.com/es/howto/python-pandas/how-to-filter-dataframe-rows-based-on-column-values-in-pandas/"
      ]
    },
    {
      "cell_type": "markdown",
      "metadata": {
        "id": "VfecebgFzUNT"
      },
      "source": [
        "2. Encuentra los 5 animes con mas favoritos según el dataset ¿Te hace sentido que estos sean los animes con mas favoritos?\n"
      ]
    },
    {
      "cell_type": "code",
      "execution_count": 17,
      "metadata": {
        "id": "WAtBCer6zXDV"
      },
      "outputs": [
        {
          "data": {
            "text/html": [
              "<div>\n",
              "<style scoped>\n",
              "    .dataframe tbody tr th:only-of-type {\n",
              "        vertical-align: middle;\n",
              "    }\n",
              "\n",
              "    .dataframe tbody tr th {\n",
              "        vertical-align: top;\n",
              "    }\n",
              "\n",
              "    .dataframe thead th {\n",
              "        text-align: right;\n",
              "    }\n",
              "</style>\n",
              "<table border=\"1\" class=\"dataframe\">\n",
              "  <thead>\n",
              "    <tr style=\"text-align: right;\">\n",
              "      <th></th>\n",
              "      <th>title</th>\n",
              "      <th>type</th>\n",
              "      <th>source</th>\n",
              "      <th>episodes</th>\n",
              "      <th>airing</th>\n",
              "      <th>studio</th>\n",
              "      <th>score</th>\n",
              "      <th>members</th>\n",
              "      <th>favorites</th>\n",
              "    </tr>\n",
              "  </thead>\n",
              "  <tbody>\n",
              "    <tr>\n",
              "      <th>2555</th>\n",
              "      <td>Fullmetal Alchemist: Brotherhood</td>\n",
              "      <td>TV</td>\n",
              "      <td>Manga</td>\n",
              "      <td>64</td>\n",
              "      <td>False</td>\n",
              "      <td>Bones</td>\n",
              "      <td>9.25</td>\n",
              "      <td>1199091</td>\n",
              "      <td>106895</td>\n",
              "    </tr>\n",
              "    <tr>\n",
              "      <th>3000</th>\n",
              "      <td>Steins;Gate</td>\n",
              "      <td>TV</td>\n",
              "      <td>Visual novel</td>\n",
              "      <td>24</td>\n",
              "      <td>False</td>\n",
              "      <td>White Fox</td>\n",
              "      <td>9.14</td>\n",
              "      <td>1010330</td>\n",
              "      <td>92423</td>\n",
              "    </tr>\n",
              "    <tr>\n",
              "      <th>7914</th>\n",
              "      <td>Death Note</td>\n",
              "      <td>TV</td>\n",
              "      <td>Manga</td>\n",
              "      <td>37</td>\n",
              "      <td>False</td>\n",
              "      <td>Madhouse</td>\n",
              "      <td>8.67</td>\n",
              "      <td>1456378</td>\n",
              "      <td>88696</td>\n",
              "    </tr>\n",
              "    <tr>\n",
              "      <th>34</th>\n",
              "      <td>One Piece</td>\n",
              "      <td>TV</td>\n",
              "      <td>Manga</td>\n",
              "      <td>0</td>\n",
              "      <td>True</td>\n",
              "      <td>Toei Animation</td>\n",
              "      <td>8.54</td>\n",
              "      <td>720133</td>\n",
              "      <td>69760</td>\n",
              "    </tr>\n",
              "    <tr>\n",
              "      <th>418</th>\n",
              "      <td>Hunter x Hunter (2011)</td>\n",
              "      <td>TV</td>\n",
              "      <td>Manga</td>\n",
              "      <td>148</td>\n",
              "      <td>False</td>\n",
              "      <td>Madhouse</td>\n",
              "      <td>9.11</td>\n",
              "      <td>720920</td>\n",
              "      <td>64375</td>\n",
              "    </tr>\n",
              "  </tbody>\n",
              "</table>\n",
              "</div>"
            ],
            "text/plain": [
              "                                 title type        source  episodes  airing  \\\n",
              "2555  Fullmetal Alchemist: Brotherhood   TV         Manga        64   False   \n",
              "3000                       Steins;Gate   TV  Visual novel        24   False   \n",
              "7914                        Death Note   TV         Manga        37   False   \n",
              "34                           One Piece   TV         Manga         0    True   \n",
              "418             Hunter x Hunter (2011)   TV         Manga       148   False   \n",
              "\n",
              "              studio  score  members  favorites  \n",
              "2555           Bones   9.25  1199091     106895  \n",
              "3000       White Fox   9.14  1010330      92423  \n",
              "7914        Madhouse   8.67  1456378      88696  \n",
              "34    Toei Animation   8.54   720133      69760  \n",
              "418         Madhouse   9.11   720920      64375  "
            ]
          },
          "execution_count": 17,
          "metadata": {},
          "output_type": "execute_result"
        }
      ],
      "source": [
        "df.sort_values(by=[\"favorites\"], ascending=False).head(5)"
      ]
    },
    {
      "cell_type": "markdown",
      "metadata": {},
      "source": [
        "https://stackoverflow.com/questions/47462690/how-to-get-top-5-values-from-pandas-dataframe"
      ]
    },
    {
      "cell_type": "markdown",
      "metadata": {
        "id": "reoFwP6RzZak"
      },
      "source": [
        "3.  Lista todos los studios (sin repetirse y sin incluir valores nulos) que tienen animes en entre los 20 con mejor score."
      ]
    },
    {
      "cell_type": "code",
      "execution_count": 18,
      "metadata": {},
      "outputs": [
        {
          "name": "stdout",
          "output_type": "stream",
          "text": [
            "                      studio\n",
            "14405    Collaboration Works\n",
            "2555                   Bones\n",
            "1028        CoMix Wave Films\n",
            "1252   Bandai Namco Pictures\n",
            "6178               White Fox\n",
            "418                 Madhouse\n",
            "8993                 Sunrise\n",
            "12726                Artland\n",
            "1307                   Shaft\n",
            "6573         Kyoto Animation\n",
            "6512          Production I.G\n",
            "7106           Studio Ghibli\n"
          ]
        }
      ],
      "source": [
        "top_20 = df.dropna().sort_values(by=[\"score\"], ascending=False).head(20)\n",
        "studios = top_20.filter([\"studio\"]).drop_duplicates()\n",
        "print(studios)"
      ]
    },
    {
      "cell_type": "markdown",
      "metadata": {},
      "source": [
        "Dropna (Eliminar filas con nulos) https://www.freecodecamp.org/espanol/news/limpieza-de-datos-en-pandas-explicado-con-ejemplos/#:~:text=Dropna,que%20para%20unas%20cuantas%20variables.\n",
        "\n",
        "drop_duplicates (Eliminar filas duplicadas) https://www.delftstack.com/es/howto/python-pandas/drop-duplicates-pandas/"
      ]
    },
    {
      "cell_type": "markdown",
      "metadata": {
        "id": "n45zk1YVzYNx"
      },
      "source": [
        "4. ¿Hay algún studio que tenga más de un anime entre los 20 con mejor score? (sin repeticiones y sin incluir nulos)\n"
      ]
    },
    {
      "cell_type": "code",
      "execution_count": 19,
      "metadata": {
        "id": "sy1OmkRBzn0K"
      },
      "outputs": [
        {
          "name": "stdout",
          "output_type": "stream",
          "text": [
            "                      studio\n",
            "3000               White Fox\n",
            "5784                 Sunrise\n",
            "10880  Bandai Namco Pictures\n",
            "6616                   Shaft\n",
            "2783         Kyoto Animation\n"
          ]
        }
      ],
      "source": [
        "top_20 = df.dropna().sort_values(by=[\"score\"], ascending=False).head(20)\n",
        "studios = top_20.filter([\"studio\"])\n",
        "studios_duplicados = studios[studios.duplicated()].drop_duplicates()\n",
        "print(studios_duplicados) "
      ]
    },
    {
      "cell_type": "markdown",
      "metadata": {},
      "source": [
        "Si, estos son los estudios que tienen más de un anime entre los 20 con mejor score"
      ]
    },
    {
      "cell_type": "markdown",
      "metadata": {
        "id": "0AcGLVkczvU1"
      },
      "source": [
        "Y eso es todo por hoy :)\n"
      ]
    },
    {
      "cell_type": "markdown",
      "metadata": {
        "id": "rR_plUgOz2kN"
      },
      "source": [
        "![](https://i.imgur.com/ghKLs78.jpeg)"
      ]
    }
  ],
  "metadata": {
    "colab": {
      "provenance": []
    },
    "kernelspec": {
      "display_name": "Python 3",
      "name": "python3"
    },
    "language_info": {
      "codemirror_mode": {
        "name": "ipython",
        "version": 3
      },
      "file_extension": ".py",
      "mimetype": "text/x-python",
      "name": "python",
      "nbconvert_exporter": "python",
      "pygments_lexer": "ipython3",
      "version": "3.12.2"
    }
  },
  "nbformat": 4,
  "nbformat_minor": 0
}
